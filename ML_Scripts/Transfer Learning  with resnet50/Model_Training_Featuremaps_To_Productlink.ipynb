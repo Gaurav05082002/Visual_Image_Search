{
  "nbformat": 4,
  "nbformat_minor": 0,
  "metadata": {
    "colab": {
      "provenance": []
    },
    "kernelspec": {
      "name": "python3",
      "display_name": "Python 3"
    },
    "language_info": {
      "name": "python"
    }
  },
  "cells": [
    {
      "cell_type": "markdown",
      "source": [
        "# **THIS CODE USES THE FOUNDATION OF TRANSFER LEARNING , IT KEEPS THE BASE LAYERS OF RESNET MODEL (PRETRAINED MODEL ON MILLIONS OF IMAGE) FIXED AND CREATES THE FEATURE MAP AND TRAINS THE MODEL TO MAP PRODUCT AND ITS FEATURE**\n",
        "\n",
        "**THIS CODE IS USED TO MAKE *product_maped_to_feature* MODEL WHICH IS USED IN SEARCH_ENGINE_MODEL.IPYNB file**\n"
      ],
      "metadata": {
        "id": "Z5JG0ZRRfGwr"
      }
    },
    {
      "cell_type": "code",
      "execution_count": null,
      "metadata": {
        "id": "9BB57nfqehl1"
      },
      "outputs": [],
      "source": [
        "import keras\n",
        "from keras.applications.resnet50 import ResNet50, preprocess_input\n",
        "import numpy as np\n",
        "import pandas as pd\n",
        "import requests\n",
        "from io import BytesIO\n",
        "from PIL import Image\n",
        "import pickle\n",
        "\n",
        "# Load ResNet50 model without the top layers\n",
        "base_model = ResNet50(weights='imagenet', include_top=False)\n",
        "\n",
        "# Function to preprocess and get feature maps\n",
        "def get_feature_map(img_url):\n",
        "    response = requests.get(img_url)\n",
        "    img = Image.open(BytesIO(response.content)).resize((224, 224))\n",
        "    x = keras.utils.img_to_array(img)\n",
        "    x = np.expand_dims(x, axis=0)\n",
        "    x = preprocess_input(x)\n",
        "    feature_map = base_model.predict(x)\n",
        "    return feature_map.flatten()\n",
        "\n",
        "# Load the CSV file\n",
        "\n",
        "\n",
        "# -----------------------------------------------------------------------------------------------------------\n",
        "  # PASTE THE CSV FILE OF DATA ON WHICH YOU WANT TO TRAIN MODEL\n",
        "csv_file_path = '/content/all category.csv'\n",
        "df = pd.read_csv(csv_file_path)\n",
        "# --------------------------------------------------------------------------------------------------------\n",
        "\n",
        "\n",
        "\n",
        "# Process each image and get its feature map\n",
        "feature_maps = []\n",
        "\n",
        "for index, row in df.iterrows():\n",
        "    img_url = row['imgurl']\n",
        "    try:\n",
        "        feature_map = get_feature_map(img_url)\n",
        "        feature_maps.append(feature_map)\n",
        "    except Exception as e:\n",
        "        print(f\"Error processing image at {img_url}: {e}\")\n",
        "        feature_maps.append(None)  # Append None if there's an error\n",
        "\n",
        "# Save the feature maps and links to a file\n",
        "data = {\n",
        "    'links': df['linkn'].tolist(),\n",
        "    'feature_maps': feature_maps\n",
        "}\n",
        "\n",
        "with open('product_maped_to_features', 'wb') as f:\n",
        "    pickle.dump(data, f)\n",
        "\n",
        "print(\"Feature maps have been saved to product_maped_to_features.pkl\")\n"
      ]
    }
  ]
}