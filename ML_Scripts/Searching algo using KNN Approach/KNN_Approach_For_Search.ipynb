{
  "nbformat": 4,
  "nbformat_minor": 0,
  "metadata": {
    "colab": {
      "provenance": []
    },
    "kernelspec": {
      "name": "python3",
      "display_name": "Python 3"
    },
    "language_info": {
      "name": "python"
    }
  },
  "cells": [
    {
      "cell_type": "markdown",
      "source": [
        "# **THIS CODE USES THE KNN APPROACH TO TRAIN A MODEL ON *product_maped_to_feature*s FILE**\n",
        "\n",
        "**THIS CODE IS USED TO MAKE *prediction_by_knn_model.pkl*  MODEL WHICH IS USED IN SEARCH_ENGINE_MODEL.IPYNB file**"
      ],
      "metadata": {
        "id": "ezyDVM8Sgzu0"
      }
    },
    {
      "cell_type": "code",
      "source": [
        "from sklearn.neighbors import NearestNeighbors\n",
        "import numpy as np\n",
        "import pickle\n",
        "\n",
        "# Load the feature maps and links from the saved file\n",
        "# ------------------------------------------------------------------------------------\n",
        "  # GIVE FILE PATH FROM MOUNTED DRIVE OR DIRECTLY FROM FILES\n",
        "with open('product_maped_to_features', 'rb') as f:\n",
        "    data = pickle.load(f)\n",
        "    # ---------------------------------------------------------------------------------------------\n",
        "\n",
        "# Extract feature maps and corresponding links, excluding any None entries\n",
        "feature_maps = np.array([f for f in data['feature_maps'] if f is not None])\n",
        "links = [data['links'][i] for i, f in enumerate(data['feature_maps']) if f is not None]\n",
        "\n",
        "# Check if we have feature maps\n",
        "if len(feature_maps) == 0:\n",
        "    raise ValueError(\"No feature maps to train on. Please check your data.\")\n",
        "\n",
        "# Train a NearestNeighbors model\n",
        "knn = NearestNeighbors(n_neighbors=1, metric='cosine')\n",
        "knn.fit(feature_maps)\n",
        "\n",
        "# Save the trained KNN model\n",
        "with open('prediction_by_knn_model.pkl', 'wb') as f:\n",
        "    pickle.dump(knn, f)\n",
        "\n",
        "print(\"KNN model has been saved to knn_model.pkl\")"
      ],
      "metadata": {
        "id": "HLSPwXppg7zz"
      },
      "execution_count": null,
      "outputs": []
    }
  ]
}